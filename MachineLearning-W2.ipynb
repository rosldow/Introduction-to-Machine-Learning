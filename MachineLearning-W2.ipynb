{
 "cells": [
  {
   "cell_type": "code",
   "execution_count": 3,
   "id": "07e387b3-5653-4b71-880c-297d44fa9b16",
   "metadata": {},
   "outputs": [],
   "source": [
    "import numpy as np"
   ]
  },
  {
   "cell_type": "code",
   "execution_count": 4,
   "id": "9514ba6f-2c3d-4b2a-9811-e5fd2fecd06d",
   "metadata": {},
   "outputs": [
    {
     "name": "stdout",
     "output_type": "stream",
     "text": [
      "Vector [ 1  2  3  4  5  6  7  8  9 10 11 12 13 14 15]\n",
      "-------------\n",
      "Two dimensional array: [[ 1  2  3  4  5]\n",
      " [ 6  7  8  9 10]\n",
      " [11 12 13 14 15]]\n",
      "-------------\n",
      "shape: (3, 5)\n",
      "-------------\n",
      "dimension: 2\n",
      "-------------\n",
      "data type: int32\n",
      "-------------\n",
      "size: 15\n",
      "-------------\n",
      "type: <class 'numpy.ndarray'>\n"
     ]
    }
   ],
   "source": [
    "array2=np.array([1,2,3,4,5,6,7,8,9,10,11,12,13,14,15])\n",
    "print(\"Vector\",array2)\n",
    "print(\"-------------\")\n",
    "a=array2.reshape(3,5)\n",
    "print(\"Two dimensional array:\",a)\n",
    "print(\"-------------\")\n",
    "\n",
    "print(\"shape:\",a.shape)\n",
    "print(\"-------------\")\n",
    "\n",
    "print(\"dimension:\",a.ndim)\n",
    "print(\"-------------\")\n",
    "\n",
    "print(\"data type:\",a.dtype.name)\n",
    "print(\"-------------\")\n",
    "\n",
    "print(\"size:\",a.size)\n",
    "print(\"-------------\")\n",
    "\n",
    "print(\"type:\",type(a))"
   ]
  },
  {
   "cell_type": "code",
   "execution_count": 5,
   "id": "1b6b4fca-69d1-44fe-bc8e-ad323a68ab4e",
   "metadata": {},
   "outputs": [
    {
     "name": "stdout",
     "output_type": "stream",
     "text": [
      "[5 7 9]\n",
      "[-3 -3 -3]\n",
      "[1 4 9]\n"
     ]
    }
   ],
   "source": [
    "x=np.array([1,2,3])\n",
    "y=np.array([4,5,6])\n",
    "\n",
    "print(x+y)\n",
    "print(x-y)\n",
    "print(x**2)"
   ]
  },
  {
   "cell_type": "code",
   "execution_count": 6,
   "id": "ed461241-838a-4d56-ae14-aaf170bbc9c4",
   "metadata": {},
   "outputs": [
    {
     "name": "stdout",
     "output_type": "stream",
     "text": [
      "[1 2 3]\n",
      "[5 2 3] [5 2 3] [5 2 3]\n"
     ]
    }
   ],
   "source": [
    "a=np.array([1,2,3])\n",
    "d=a.copy()\n",
    "print(d)\n",
    "b=a\n",
    "c=a\n",
    "b[0]=5\n",
    "print(a,b,c)"
   ]
  },
  {
   "cell_type": "code",
   "execution_count": 7,
   "id": "adc9b741-d781-4eae-83b4-61e101c24953",
   "metadata": {},
   "outputs": [
    {
     "name": "stdout",
     "output_type": "stream",
     "text": [
      "1\n",
      "[1 2 3 4]\n"
     ]
    }
   ],
   "source": [
    "a=np.array([1,2,3,4,5,6,7])\n",
    "print(a[0])\n",
    "print(a[0:4])"
   ]
  },
  {
   "cell_type": "code",
   "execution_count": 8,
   "id": "9d459180-a98c-4405-bc05-64e0b5b292be",
   "metadata": {},
   "outputs": [
    {
     "name": "stdout",
     "output_type": "stream",
     "text": [
      "[7 6 5 4 3 2 1]\n"
     ]
    }
   ],
   "source": [
    "reverse_array=a[::-1]\n",
    "print(reverse_array)"
   ]
  },
  {
   "cell_type": "code",
   "execution_count": 12,
   "id": "8c49a1ec-bf46-4ff8-9529-a599eaa78dbf",
   "metadata": {},
   "outputs": [
    {
     "name": "stdout",
     "output_type": "stream",
     "text": [
      "[[ 1  2  3  4  5]\n",
      " [ 6  7  8  9 10]]\n",
      "-------------\n",
      "7\n",
      "-------------\n",
      "[2 7]\n",
      "-------------\n",
      "[ 6  7  8  9 10]\n",
      "-------------\n",
      "[7 8 9]\n",
      "-------------\n",
      "[ 6  7  8  9 10]\n",
      "-------------\n",
      "[ 5 10]\n"
     ]
    }
   ],
   "source": [
    "b=np.array([[1,2,3,4,5],[6,7,8,9,10]])\n",
    "print(b)\n",
    "print(\"-------------\")\n",
    "\n",
    "print(b[1,1])\n",
    "print(\"-------------\")\n",
    "\n",
    "print(b[:,1])\n",
    "print(\"-------------\")\n",
    "\n",
    "print(b[1,:])\n",
    "print(\"-------------\")\n",
    "\n",
    "print(b[1,1:4])\n",
    "print(\"-------------\")\n",
    "\n",
    "print(b[-1,:])\n",
    "print(\"-------------\")\n",
    "\n",
    "print(b[:,-1])\n",
    "\n"
   ]
  },
  {
   "cell_type": "code",
   "execution_count": null,
   "id": "cc1c6a24-aa64-4c75-aa9d-0c6e2a0cfda0",
   "metadata": {},
   "outputs": [],
   "source": []
  }
 ],
 "metadata": {
  "kernelspec": {
   "display_name": "Python 3 (ipykernel)",
   "language": "python",
   "name": "python3"
  },
  "language_info": {
   "codemirror_mode": {
    "name": "ipython",
    "version": 3
   },
   "file_extension": ".py",
   "mimetype": "text/x-python",
   "name": "python",
   "nbconvert_exporter": "python",
   "pygments_lexer": "ipython3",
   "version": "3.11.7"
  }
 },
 "nbformat": 4,
 "nbformat_minor": 5
}
